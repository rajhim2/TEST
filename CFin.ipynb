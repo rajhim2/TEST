{
 "cells": [
  {
   "cell_type": "code",
   "execution_count": 3,
   "metadata": {},
   "outputs": [],
   "source": [
    "import requests\n",
    "r = requests.get('https://www.cricbuzz.com/profiles/1413/virat-kohli')\n",
    "r2=\n",
    "from bs4 import BeautifulSoup\n",
    "soup = BeautifulSoup(r.text, 'html.parser')\n",
    "results=soup.find('tbody')\n",
    "ans=results.find_all('td',attrs={'text-right'})"
   ]
  },
  {
   "cell_type": "code",
   "execution_count": 10,
   "metadata": {},
   "outputs": [],
   "source": [
    "records=[]\n",
    "matches=ans[13:26][0].text\n",
    "innings=ans[13:26][1].text\n",
    "not_outs=ans[13:26][2].text\n",
    "runs=ans[13:26][3].text\n",
    "high_score=ans[13:26][4].text\n",
    "average=ans[13:26][5].text\n",
    "balls_faced=ans[13:26][6].text\n",
    "strike_rate=ans[13:26][7].text\n",
    "hundreds=ans[13:26][8].text\n",
    "twoh=ans[13:26][9].text\n",
    "fif=ans[13:26][10].text\n",
    "fours=ans[13:26][11].text\n",
    "sixes=ans[13:26][12].text\n",
    "records.append(([matches,innings,not_outs,runs,high_score,average,balls_faced,strike_rate,hundreds,twoh,fif,fours,sixes]))"
   ]
  },
  {
   "cell_type": "code",
   "execution_count": 11,
   "metadata": {},
   "outputs": [],
   "source": [
    "import pandas as pd"
   ]
  },
  {
   "cell_type": "code",
   "execution_count": 12,
   "metadata": {},
   "outputs": [],
   "source": [
    "df=pd.DataFrame(records,columns=['matches','innings','not_outs','runs','high_score','average','balls_faced','strike_rate','hundreds','twoh','fif','fours','sixes'])"
   ]
  },
  {
   "cell_type": "code",
   "execution_count": 13,
   "metadata": {},
   "outputs": [
    {
     "data": {
      "text/html": [
       "<div>\n",
       "<style scoped>\n",
       "    .dataframe tbody tr th:only-of-type {\n",
       "        vertical-align: middle;\n",
       "    }\n",
       "\n",
       "    .dataframe tbody tr th {\n",
       "        vertical-align: top;\n",
       "    }\n",
       "\n",
       "    .dataframe thead th {\n",
       "        text-align: right;\n",
       "    }\n",
       "</style>\n",
       "<table border=\"1\" class=\"dataframe\">\n",
       "  <thead>\n",
       "    <tr style=\"text-align: right;\">\n",
       "      <th></th>\n",
       "      <th>matches</th>\n",
       "      <th>innings</th>\n",
       "      <th>not_outs</th>\n",
       "      <th>runs</th>\n",
       "      <th>high_score</th>\n",
       "      <th>average</th>\n",
       "      <th>balls_faced</th>\n",
       "      <th>strike_rate</th>\n",
       "      <th>hundreds</th>\n",
       "      <th>twoh</th>\n",
       "      <th>fif</th>\n",
       "      <th>fours</th>\n",
       "      <th>sixes</th>\n",
       "    </tr>\n",
       "  </thead>\n",
       "  <tbody>\n",
       "    <tr>\n",
       "      <th>0</th>\n",
       "      <td>227</td>\n",
       "      <td>219</td>\n",
       "      <td>37</td>\n",
       "      <td>10843</td>\n",
       "      <td>183</td>\n",
       "      <td>59.58</td>\n",
       "      <td>11664</td>\n",
       "      <td>92.96</td>\n",
       "      <td>41</td>\n",
       "      <td>0</td>\n",
       "      <td>49</td>\n",
       "      <td>1019</td>\n",
       "      <td>117</td>\n",
       "    </tr>\n",
       "  </tbody>\n",
       "</table>\n",
       "</div>"
      ],
      "text/plain": [
       "  matches innings not_outs   runs high_score average balls_faced strike_rate  \\\n",
       "0     227     219       37  10843        183   59.58       11664       92.96   \n",
       "\n",
       "  hundreds twoh fif fours sixes  \n",
       "0       41    0  49  1019   117  "
      ]
     },
     "execution_count": 13,
     "metadata": {},
     "output_type": "execute_result"
    }
   ],
   "source": [
    "df.head()"
   ]
  },
  {
   "cell_type": "code",
   "execution_count": 14,
   "metadata": {},
   "outputs": [],
   "source": [
    "df.to_csv(\"Virat.csv\",index=False,encoding='utf-8')"
   ]
  },
  {
   "cell_type": "code",
   "execution_count": null,
   "metadata": {},
   "outputs": [],
   "source": []
  }
 ],
 "metadata": {
  "kernelspec": {
   "display_name": "Python 3",
   "language": "python",
   "name": "python3"
  },
  "language_info": {
   "codemirror_mode": {
    "name": "ipython",
    "version": 3
   },
   "file_extension": ".py",
   "mimetype": "text/x-python",
   "name": "python",
   "nbconvert_exporter": "python",
   "pygments_lexer": "ipython3",
   "version": "3.6.5"
  }
 },
 "nbformat": 4,
 "nbformat_minor": 2
}
